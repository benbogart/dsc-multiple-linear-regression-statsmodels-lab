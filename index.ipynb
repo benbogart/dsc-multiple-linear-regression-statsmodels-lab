{
 "cells": [
  {
   "cell_type": "markdown",
   "metadata": {},
   "source": [
    "# Multiple Linear Regression in Statsmodels - Lab"
   ]
  },
  {
   "cell_type": "markdown",
   "metadata": {},
   "source": [
    "## Introduction\n",
    "In this lab, you'll practice fitting a multiple linear regression model on the Ames Housing dataset!"
   ]
  },
  {
   "cell_type": "markdown",
   "metadata": {},
   "source": [
    "## Objectives\n",
    "You will be able to:\n",
    "* Determine if it is necessary to perform normalization/standardization for a specific model or set of data\n",
    "* Use standardization/normalization on features of a dataset\n",
    "* Identify if it is necessary to perform log transformations on a set of features\n",
    "* Perform log transformations on different features of a dataset\n",
    "* Use statsmodels to fit a multiple linear regression model\n",
    "* Evaluate a linear regression model by using statistical performance metrics pertaining to overall model and specific parameters\n"
   ]
  },
  {
   "cell_type": "markdown",
   "metadata": {},
   "source": [
    "## The Ames Housing Data"
   ]
  },
  {
   "cell_type": "markdown",
   "metadata": {},
   "source": [
    "Using the specified continuous and categorical features, preprocess your data to prepare for modeling:\n",
    "* Split off and one hot encode the categorical features of interest\n",
    "* Log and scale the selected continuous features"
   ]
  },
  {
   "cell_type": "code",
   "execution_count": 1,
   "metadata": {},
   "outputs": [],
   "source": [
    "import pandas as pd\n",
    "import numpy as np\n",
    "\n",
    "ames = pd.read_csv('ames.csv')\n",
    "\n",
    "continuous = ['LotArea', '1stFlrSF', 'GrLivArea', 'SalePrice']\n",
    "categoricals = ['BldgType', 'KitchenQual', 'SaleType', 'MSZoning', 'Street', 'Neighborhood']\n"
   ]
  },
  {
   "cell_type": "code",
   "execution_count": 193,
   "metadata": {},
   "outputs": [
    {
     "data": {
      "text/plain": [
       "180921.19589041095"
      ]
     },
     "execution_count": 193,
     "metadata": {},
     "output_type": "execute_result"
    }
   ],
   "source": [
    "ames['SalePrice'].mean()"
   ]
  },
  {
   "cell_type": "markdown",
   "metadata": {},
   "source": [
    "## Continuous Features"
   ]
  },
  {
   "cell_type": "code",
   "execution_count": 204,
   "metadata": {},
   "outputs": [
    {
     "data": {
      "text/html": [
       "<div>\n",
       "<style scoped>\n",
       "    .dataframe tbody tr th:only-of-type {\n",
       "        vertical-align: middle;\n",
       "    }\n",
       "\n",
       "    .dataframe tbody tr th {\n",
       "        vertical-align: top;\n",
       "    }\n",
       "\n",
       "    .dataframe thead th {\n",
       "        text-align: right;\n",
       "    }\n",
       "</style>\n",
       "<table border=\"1\" class=\"dataframe\">\n",
       "  <thead>\n",
       "    <tr style=\"text-align: right;\">\n",
       "      <th></th>\n",
       "      <th>LotArea</th>\n",
       "      <th>1stFlrSF</th>\n",
       "      <th>GrLivArea</th>\n",
       "      <th>SalePrice</th>\n",
       "    </tr>\n",
       "  </thead>\n",
       "  <tbody>\n",
       "    <tr>\n",
       "      <th>0</th>\n",
       "      <td>-0.133185</td>\n",
       "      <td>-0.803295</td>\n",
       "      <td>0.529078</td>\n",
       "      <td>0.559876</td>\n",
       "    </tr>\n",
       "    <tr>\n",
       "      <th>1</th>\n",
       "      <td>0.113403</td>\n",
       "      <td>0.418442</td>\n",
       "      <td>-0.381715</td>\n",
       "      <td>0.212692</td>\n",
       "    </tr>\n",
       "    <tr>\n",
       "      <th>2</th>\n",
       "      <td>0.419917</td>\n",
       "      <td>-0.576363</td>\n",
       "      <td>0.659449</td>\n",
       "      <td>0.733795</td>\n",
       "    </tr>\n",
       "    <tr>\n",
       "      <th>3</th>\n",
       "      <td>0.103311</td>\n",
       "      <td>-0.439137</td>\n",
       "      <td>0.541326</td>\n",
       "      <td>-0.437232</td>\n",
       "    </tr>\n",
       "    <tr>\n",
       "      <th>4</th>\n",
       "      <td>0.878108</td>\n",
       "      <td>0.112229</td>\n",
       "      <td>1.281751</td>\n",
       "      <td>1.014303</td>\n",
       "    </tr>\n",
       "  </tbody>\n",
       "</table>\n",
       "</div>"
      ],
      "text/plain": [
       "    LotArea  1stFlrSF  GrLivArea  SalePrice\n",
       "0 -0.133185 -0.803295   0.529078   0.559876\n",
       "1  0.113403  0.418442  -0.381715   0.212692\n",
       "2  0.419917 -0.576363   0.659449   0.733795\n",
       "3  0.103311 -0.439137   0.541326  -0.437232\n",
       "4  0.878108  0.112229   1.281751   1.014303"
      ]
     },
     "execution_count": 204,
     "metadata": {},
     "output_type": "execute_result"
    }
   ],
   "source": [
    "# Log transform and normalize\n",
    "def minmax(x):\n",
    "    return(x - x.mean()) / (x.max() - x.mean())\n",
    "\n",
    "def normalize(x):\n",
    "    return(x - x.mean())/x.std()\n",
    "\n",
    "ames_cont_log_prenorm = np.log(ames[continuous])\n",
    "\n",
    "x_means = ames_cont_log_prenorm[continuous].mean()\n",
    "x_stds = ames_cont_log_prenorm[continuous].std()\n",
    "\n",
    "ames_cont_log = ames_cont_log_prenorm.apply(normalize)\n",
    "\n",
    "ames_cont_log.head()\n"
   ]
  },
  {
   "cell_type": "code",
   "execution_count": 116,
   "metadata": {},
   "outputs": [
    {
     "data": {
      "text/plain": [
       "6.123694623595966"
      ]
     },
     "execution_count": 116,
     "metadata": {},
     "output_type": "execute_result"
    }
   ],
   "source": [
    "ames_cont_log['LotArea'].max()"
   ]
  },
  {
   "cell_type": "markdown",
   "metadata": {},
   "source": [
    "## Categorical Features"
   ]
  },
  {
   "cell_type": "code",
   "execution_count": 61,
   "metadata": {},
   "outputs": [
    {
     "data": {
      "text/html": [
       "<div>\n",
       "<style scoped>\n",
       "    .dataframe tbody tr th:only-of-type {\n",
       "        vertical-align: middle;\n",
       "    }\n",
       "\n",
       "    .dataframe tbody tr th {\n",
       "        vertical-align: top;\n",
       "    }\n",
       "\n",
       "    .dataframe thead th {\n",
       "        text-align: right;\n",
       "    }\n",
       "</style>\n",
       "<table border=\"1\" class=\"dataframe\">\n",
       "  <thead>\n",
       "    <tr style=\"text-align: right;\">\n",
       "      <th></th>\n",
       "      <th>BldgType_2fmCon</th>\n",
       "      <th>BldgType_Duplex</th>\n",
       "      <th>BldgType_Twnhs</th>\n",
       "      <th>BldgType_TwnhsE</th>\n",
       "      <th>KitchenQual_Fa</th>\n",
       "      <th>KitchenQual_Gd</th>\n",
       "      <th>KitchenQual_TA</th>\n",
       "      <th>SaleType_CWD</th>\n",
       "      <th>SaleType_Con</th>\n",
       "      <th>SaleType_ConLD</th>\n",
       "      <th>...</th>\n",
       "      <th>Neighborhood_NoRidge</th>\n",
       "      <th>Neighborhood_NridgHt</th>\n",
       "      <th>Neighborhood_OldTown</th>\n",
       "      <th>Neighborhood_SWISU</th>\n",
       "      <th>Neighborhood_Sawyer</th>\n",
       "      <th>Neighborhood_SawyerW</th>\n",
       "      <th>Neighborhood_Somerst</th>\n",
       "      <th>Neighborhood_StoneBr</th>\n",
       "      <th>Neighborhood_Timber</th>\n",
       "      <th>Neighborhood_Veenker</th>\n",
       "    </tr>\n",
       "  </thead>\n",
       "  <tbody>\n",
       "    <tr>\n",
       "      <th>0</th>\n",
       "      <td>0</td>\n",
       "      <td>0</td>\n",
       "      <td>0</td>\n",
       "      <td>0</td>\n",
       "      <td>0</td>\n",
       "      <td>1</td>\n",
       "      <td>0</td>\n",
       "      <td>0</td>\n",
       "      <td>0</td>\n",
       "      <td>0</td>\n",
       "      <td>...</td>\n",
       "      <td>0</td>\n",
       "      <td>0</td>\n",
       "      <td>0</td>\n",
       "      <td>0</td>\n",
       "      <td>0</td>\n",
       "      <td>0</td>\n",
       "      <td>0</td>\n",
       "      <td>0</td>\n",
       "      <td>0</td>\n",
       "      <td>0</td>\n",
       "    </tr>\n",
       "    <tr>\n",
       "      <th>1</th>\n",
       "      <td>0</td>\n",
       "      <td>0</td>\n",
       "      <td>0</td>\n",
       "      <td>0</td>\n",
       "      <td>0</td>\n",
       "      <td>0</td>\n",
       "      <td>1</td>\n",
       "      <td>0</td>\n",
       "      <td>0</td>\n",
       "      <td>0</td>\n",
       "      <td>...</td>\n",
       "      <td>0</td>\n",
       "      <td>0</td>\n",
       "      <td>0</td>\n",
       "      <td>0</td>\n",
       "      <td>0</td>\n",
       "      <td>0</td>\n",
       "      <td>0</td>\n",
       "      <td>0</td>\n",
       "      <td>0</td>\n",
       "      <td>1</td>\n",
       "    </tr>\n",
       "    <tr>\n",
       "      <th>2</th>\n",
       "      <td>0</td>\n",
       "      <td>0</td>\n",
       "      <td>0</td>\n",
       "      <td>0</td>\n",
       "      <td>0</td>\n",
       "      <td>1</td>\n",
       "      <td>0</td>\n",
       "      <td>0</td>\n",
       "      <td>0</td>\n",
       "      <td>0</td>\n",
       "      <td>...</td>\n",
       "      <td>0</td>\n",
       "      <td>0</td>\n",
       "      <td>0</td>\n",
       "      <td>0</td>\n",
       "      <td>0</td>\n",
       "      <td>0</td>\n",
       "      <td>0</td>\n",
       "      <td>0</td>\n",
       "      <td>0</td>\n",
       "      <td>0</td>\n",
       "    </tr>\n",
       "    <tr>\n",
       "      <th>3</th>\n",
       "      <td>0</td>\n",
       "      <td>0</td>\n",
       "      <td>0</td>\n",
       "      <td>0</td>\n",
       "      <td>0</td>\n",
       "      <td>1</td>\n",
       "      <td>0</td>\n",
       "      <td>0</td>\n",
       "      <td>0</td>\n",
       "      <td>0</td>\n",
       "      <td>...</td>\n",
       "      <td>0</td>\n",
       "      <td>0</td>\n",
       "      <td>0</td>\n",
       "      <td>0</td>\n",
       "      <td>0</td>\n",
       "      <td>0</td>\n",
       "      <td>0</td>\n",
       "      <td>0</td>\n",
       "      <td>0</td>\n",
       "      <td>0</td>\n",
       "    </tr>\n",
       "    <tr>\n",
       "      <th>4</th>\n",
       "      <td>0</td>\n",
       "      <td>0</td>\n",
       "      <td>0</td>\n",
       "      <td>0</td>\n",
       "      <td>0</td>\n",
       "      <td>1</td>\n",
       "      <td>0</td>\n",
       "      <td>0</td>\n",
       "      <td>0</td>\n",
       "      <td>0</td>\n",
       "      <td>...</td>\n",
       "      <td>1</td>\n",
       "      <td>0</td>\n",
       "      <td>0</td>\n",
       "      <td>0</td>\n",
       "      <td>0</td>\n",
       "      <td>0</td>\n",
       "      <td>0</td>\n",
       "      <td>0</td>\n",
       "      <td>0</td>\n",
       "      <td>0</td>\n",
       "    </tr>\n",
       "  </tbody>\n",
       "</table>\n",
       "<p>5 rows × 44 columns</p>\n",
       "</div>"
      ],
      "text/plain": [
       "   BldgType_2fmCon  BldgType_Duplex  BldgType_Twnhs  BldgType_TwnhsE  \\\n",
       "0                0                0               0                0   \n",
       "1                0                0               0                0   \n",
       "2                0                0               0                0   \n",
       "3                0                0               0                0   \n",
       "4                0                0               0                0   \n",
       "\n",
       "   KitchenQual_Fa  KitchenQual_Gd  KitchenQual_TA  SaleType_CWD  SaleType_Con  \\\n",
       "0               0               1               0             0             0   \n",
       "1               0               0               1             0             0   \n",
       "2               0               1               0             0             0   \n",
       "3               0               1               0             0             0   \n",
       "4               0               1               0             0             0   \n",
       "\n",
       "   SaleType_ConLD  ...  Neighborhood_NoRidge  Neighborhood_NridgHt  \\\n",
       "0               0  ...                     0                     0   \n",
       "1               0  ...                     0                     0   \n",
       "2               0  ...                     0                     0   \n",
       "3               0  ...                     0                     0   \n",
       "4               0  ...                     1                     0   \n",
       "\n",
       "   Neighborhood_OldTown  Neighborhood_SWISU  Neighborhood_Sawyer  \\\n",
       "0                     0                   0                    0   \n",
       "1                     0                   0                    0   \n",
       "2                     0                   0                    0   \n",
       "3                     0                   0                    0   \n",
       "4                     0                   0                    0   \n",
       "\n",
       "   Neighborhood_SawyerW  Neighborhood_Somerst  Neighborhood_StoneBr  \\\n",
       "0                     0                     0                     0   \n",
       "1                     0                     0                     0   \n",
       "2                     0                     0                     0   \n",
       "3                     0                     0                     0   \n",
       "4                     0                     0                     0   \n",
       "\n",
       "   Neighborhood_Timber  Neighborhood_Veenker  \n",
       "0                    0                     0  \n",
       "1                    0                     1  \n",
       "2                    0                     0  \n",
       "3                    0                     0  \n",
       "4                    0                     0  \n",
       "\n",
       "[5 rows x 44 columns]"
      ]
     },
     "execution_count": 61,
     "metadata": {},
     "output_type": "execute_result"
    }
   ],
   "source": [
    "# One hot encode categoricals\n",
    "ames_categoricals = pd.get_dummies(ames[categoricals], drop_first=True)\n",
    "ames_categoricals.head()"
   ]
  },
  {
   "cell_type": "markdown",
   "metadata": {},
   "source": [
    "## Combine Categorical and Continuous Features"
   ]
  },
  {
   "cell_type": "code",
   "execution_count": 63,
   "metadata": {},
   "outputs": [
    {
     "data": {
      "text/html": [
       "<div>\n",
       "<style scoped>\n",
       "    .dataframe tbody tr th:only-of-type {\n",
       "        vertical-align: middle;\n",
       "    }\n",
       "\n",
       "    .dataframe tbody tr th {\n",
       "        vertical-align: top;\n",
       "    }\n",
       "\n",
       "    .dataframe thead th {\n",
       "        text-align: right;\n",
       "    }\n",
       "</style>\n",
       "<table border=\"1\" class=\"dataframe\">\n",
       "  <thead>\n",
       "    <tr style=\"text-align: right;\">\n",
       "      <th></th>\n",
       "      <th>LotArea</th>\n",
       "      <th>1stFlrSF</th>\n",
       "      <th>GrLivArea</th>\n",
       "      <th>SalePrice</th>\n",
       "      <th>BldgType_2fmCon</th>\n",
       "      <th>BldgType_Duplex</th>\n",
       "      <th>BldgType_Twnhs</th>\n",
       "      <th>BldgType_TwnhsE</th>\n",
       "      <th>KitchenQual_Fa</th>\n",
       "      <th>KitchenQual_Gd</th>\n",
       "      <th>...</th>\n",
       "      <th>Neighborhood_NoRidge</th>\n",
       "      <th>Neighborhood_NridgHt</th>\n",
       "      <th>Neighborhood_OldTown</th>\n",
       "      <th>Neighborhood_SWISU</th>\n",
       "      <th>Neighborhood_Sawyer</th>\n",
       "      <th>Neighborhood_SawyerW</th>\n",
       "      <th>Neighborhood_Somerst</th>\n",
       "      <th>Neighborhood_StoneBr</th>\n",
       "      <th>Neighborhood_Timber</th>\n",
       "      <th>Neighborhood_Veenker</th>\n",
       "    </tr>\n",
       "  </thead>\n",
       "  <tbody>\n",
       "    <tr>\n",
       "      <th>0</th>\n",
       "      <td>-0.133185</td>\n",
       "      <td>-0.803295</td>\n",
       "      <td>0.529078</td>\n",
       "      <td>0.559876</td>\n",
       "      <td>0</td>\n",
       "      <td>0</td>\n",
       "      <td>0</td>\n",
       "      <td>0</td>\n",
       "      <td>0</td>\n",
       "      <td>1</td>\n",
       "      <td>...</td>\n",
       "      <td>0</td>\n",
       "      <td>0</td>\n",
       "      <td>0</td>\n",
       "      <td>0</td>\n",
       "      <td>0</td>\n",
       "      <td>0</td>\n",
       "      <td>0</td>\n",
       "      <td>0</td>\n",
       "      <td>0</td>\n",
       "      <td>0</td>\n",
       "    </tr>\n",
       "    <tr>\n",
       "      <th>1</th>\n",
       "      <td>0.113403</td>\n",
       "      <td>0.418442</td>\n",
       "      <td>-0.381715</td>\n",
       "      <td>0.212692</td>\n",
       "      <td>0</td>\n",
       "      <td>0</td>\n",
       "      <td>0</td>\n",
       "      <td>0</td>\n",
       "      <td>0</td>\n",
       "      <td>0</td>\n",
       "      <td>...</td>\n",
       "      <td>0</td>\n",
       "      <td>0</td>\n",
       "      <td>0</td>\n",
       "      <td>0</td>\n",
       "      <td>0</td>\n",
       "      <td>0</td>\n",
       "      <td>0</td>\n",
       "      <td>0</td>\n",
       "      <td>0</td>\n",
       "      <td>1</td>\n",
       "    </tr>\n",
       "  </tbody>\n",
       "</table>\n",
       "<p>2 rows × 48 columns</p>\n",
       "</div>"
      ],
      "text/plain": [
       "    LotArea  1stFlrSF  GrLivArea  SalePrice  BldgType_2fmCon  BldgType_Duplex  \\\n",
       "0 -0.133185 -0.803295   0.529078   0.559876                0                0   \n",
       "1  0.113403  0.418442  -0.381715   0.212692                0                0   \n",
       "\n",
       "   BldgType_Twnhs  BldgType_TwnhsE  KitchenQual_Fa  KitchenQual_Gd  ...  \\\n",
       "0               0                0               0               1  ...   \n",
       "1               0                0               0               0  ...   \n",
       "\n",
       "   Neighborhood_NoRidge  Neighborhood_NridgHt  Neighborhood_OldTown  \\\n",
       "0                     0                     0                     0   \n",
       "1                     0                     0                     0   \n",
       "\n",
       "   Neighborhood_SWISU  Neighborhood_Sawyer  Neighborhood_SawyerW  \\\n",
       "0                   0                    0                     0   \n",
       "1                   0                    0                     0   \n",
       "\n",
       "   Neighborhood_Somerst  Neighborhood_StoneBr  Neighborhood_Timber  \\\n",
       "0                     0                     0                    0   \n",
       "1                     0                     0                    0   \n",
       "\n",
       "   Neighborhood_Veenker  \n",
       "0                     0  \n",
       "1                     1  \n",
       "\n",
       "[2 rows x 48 columns]"
      ]
     },
     "execution_count": 63,
     "metadata": {},
     "output_type": "execute_result"
    }
   ],
   "source": [
    "# combine features into a single dataframe called preprocessed\n",
    "preprocessed = pd.concat([ames_cont_log, \n",
    "                          ames_categoricals], \n",
    "                         axis=1)\n",
    "preprocessed.head(2)"
   ]
  },
  {
   "cell_type": "markdown",
   "metadata": {},
   "source": [
    "## Run a linear model with SalePrice as the target variable in statsmodels"
   ]
  },
  {
   "cell_type": "code",
   "execution_count": 69,
   "metadata": {},
   "outputs": [
    {
     "data": {
      "text/html": [
       "<table class=\"simpletable\">\n",
       "<caption>OLS Regression Results</caption>\n",
       "<tr>\n",
       "  <th>Dep. Variable:</th>        <td>SalePrice</td>    <th>  R-squared:         </th> <td>   0.839</td>\n",
       "</tr>\n",
       "<tr>\n",
       "  <th>Model:</th>                   <td>OLS</td>       <th>  Adj. R-squared:    </th> <td>   0.834</td>\n",
       "</tr>\n",
       "<tr>\n",
       "  <th>Method:</th>             <td>Least Squares</td>  <th>  F-statistic:       </th> <td>   156.5</td>\n",
       "</tr>\n",
       "<tr>\n",
       "  <th>Date:</th>             <td>Wed, 23 Dec 2020</td> <th>  Prob (F-statistic):</th>  <td>  0.00</td> \n",
       "</tr>\n",
       "<tr>\n",
       "  <th>Time:</th>                 <td>15:19:17</td>     <th>  Log-Likelihood:    </th> <td> -738.14</td>\n",
       "</tr>\n",
       "<tr>\n",
       "  <th>No. Observations:</th>      <td>  1460</td>      <th>  AIC:               </th> <td>   1572.</td>\n",
       "</tr>\n",
       "<tr>\n",
       "  <th>Df Residuals:</th>          <td>  1412</td>      <th>  BIC:               </th> <td>   1826.</td>\n",
       "</tr>\n",
       "<tr>\n",
       "  <th>Df Model:</th>              <td>    47</td>      <th>                     </th>     <td> </td>   \n",
       "</tr>\n",
       "<tr>\n",
       "  <th>Covariance Type:</th>      <td>nonrobust</td>    <th>                     </th>     <td> </td>   \n",
       "</tr>\n",
       "</table>\n",
       "<table class=\"simpletable\">\n",
       "<tr>\n",
       "            <td></td>              <th>coef</th>     <th>std err</th>      <th>t</th>      <th>P>|t|</th>  <th>[0.025</th>    <th>0.975]</th>  \n",
       "</tr>\n",
       "<tr>\n",
       "  <th>const</th>                <td>   -0.1317</td> <td>    0.263</td> <td>   -0.500</td> <td> 0.617</td> <td>   -0.648</td> <td>    0.385</td>\n",
       "</tr>\n",
       "<tr>\n",
       "  <th>LotArea</th>              <td>    0.1033</td> <td>    0.019</td> <td>    5.475</td> <td> 0.000</td> <td>    0.066</td> <td>    0.140</td>\n",
       "</tr>\n",
       "<tr>\n",
       "  <th>1stFlrSF</th>             <td>    0.1371</td> <td>    0.016</td> <td>    8.584</td> <td> 0.000</td> <td>    0.106</td> <td>    0.168</td>\n",
       "</tr>\n",
       "<tr>\n",
       "  <th>GrLivArea</th>            <td>    0.3768</td> <td>    0.016</td> <td>   24.114</td> <td> 0.000</td> <td>    0.346</td> <td>    0.407</td>\n",
       "</tr>\n",
       "<tr>\n",
       "  <th>BldgType_2fmCon</th>      <td>   -0.1715</td> <td>    0.079</td> <td>   -2.173</td> <td> 0.030</td> <td>   -0.326</td> <td>   -0.017</td>\n",
       "</tr>\n",
       "<tr>\n",
       "  <th>BldgType_Duplex</th>      <td>   -0.4203</td> <td>    0.062</td> <td>   -6.813</td> <td> 0.000</td> <td>   -0.541</td> <td>   -0.299</td>\n",
       "</tr>\n",
       "<tr>\n",
       "  <th>BldgType_Twnhs</th>       <td>   -0.1403</td> <td>    0.093</td> <td>   -1.513</td> <td> 0.130</td> <td>   -0.322</td> <td>    0.042</td>\n",
       "</tr>\n",
       "<tr>\n",
       "  <th>BldgType_TwnhsE</th>      <td>   -0.0512</td> <td>    0.060</td> <td>   -0.858</td> <td> 0.391</td> <td>   -0.168</td> <td>    0.066</td>\n",
       "</tr>\n",
       "<tr>\n",
       "  <th>KitchenQual_Fa</th>       <td>   -0.9999</td> <td>    0.088</td> <td>  -11.315</td> <td> 0.000</td> <td>   -1.173</td> <td>   -0.827</td>\n",
       "</tr>\n",
       "<tr>\n",
       "  <th>KitchenQual_Gd</th>       <td>   -0.3820</td> <td>    0.050</td> <td>   -7.613</td> <td> 0.000</td> <td>   -0.480</td> <td>   -0.284</td>\n",
       "</tr>\n",
       "<tr>\n",
       "  <th>KitchenQual_TA</th>       <td>   -0.6692</td> <td>    0.055</td> <td>  -12.111</td> <td> 0.000</td> <td>   -0.778</td> <td>   -0.561</td>\n",
       "</tr>\n",
       "<tr>\n",
       "  <th>SaleType_CWD</th>         <td>    0.2285</td> <td>    0.215</td> <td>    1.061</td> <td> 0.289</td> <td>   -0.194</td> <td>    0.651</td>\n",
       "</tr>\n",
       "<tr>\n",
       "  <th>SaleType_Con</th>         <td>    0.5861</td> <td>    0.304</td> <td>    1.927</td> <td> 0.054</td> <td>   -0.010</td> <td>    1.183</td>\n",
       "</tr>\n",
       "<tr>\n",
       "  <th>SaleType_ConLD</th>       <td>    0.3151</td> <td>    0.155</td> <td>    2.029</td> <td> 0.043</td> <td>    0.010</td> <td>    0.620</td>\n",
       "</tr>\n",
       "<tr>\n",
       "  <th>SaleType_ConLI</th>       <td>    0.0331</td> <td>    0.195</td> <td>    0.169</td> <td> 0.865</td> <td>   -0.350</td> <td>    0.416</td>\n",
       "</tr>\n",
       "<tr>\n",
       "  <th>SaleType_ConLw</th>       <td>    0.0161</td> <td>    0.196</td> <td>    0.082</td> <td> 0.935</td> <td>   -0.368</td> <td>    0.400</td>\n",
       "</tr>\n",
       "<tr>\n",
       "  <th>SaleType_New</th>         <td>    0.2999</td> <td>    0.079</td> <td>    3.803</td> <td> 0.000</td> <td>    0.145</td> <td>    0.455</td>\n",
       "</tr>\n",
       "<tr>\n",
       "  <th>SaleType_Oth</th>         <td>    0.1178</td> <td>    0.245</td> <td>    0.480</td> <td> 0.631</td> <td>   -0.364</td> <td>    0.599</td>\n",
       "</tr>\n",
       "<tr>\n",
       "  <th>SaleType_WD</th>          <td>    0.1748</td> <td>    0.065</td> <td>    2.676</td> <td> 0.008</td> <td>    0.047</td> <td>    0.303</td>\n",
       "</tr>\n",
       "<tr>\n",
       "  <th>MSZoning_FV</th>          <td>    1.0666</td> <td>    0.193</td> <td>    5.526</td> <td> 0.000</td> <td>    0.688</td> <td>    1.445</td>\n",
       "</tr>\n",
       "<tr>\n",
       "  <th>MSZoning_RH</th>          <td>    0.8768</td> <td>    0.194</td> <td>    4.512</td> <td> 0.000</td> <td>    0.496</td> <td>    1.258</td>\n",
       "</tr>\n",
       "<tr>\n",
       "  <th>MSZoning_RL</th>          <td>    0.9961</td> <td>    0.162</td> <td>    6.151</td> <td> 0.000</td> <td>    0.678</td> <td>    1.314</td>\n",
       "</tr>\n",
       "<tr>\n",
       "  <th>MSZoning_RM</th>          <td>    1.1023</td> <td>    0.152</td> <td>    7.264</td> <td> 0.000</td> <td>    0.805</td> <td>    1.400</td>\n",
       "</tr>\n",
       "<tr>\n",
       "  <th>Street_Pave</th>          <td>   -0.2131</td> <td>    0.180</td> <td>   -1.182</td> <td> 0.237</td> <td>   -0.567</td> <td>    0.141</td>\n",
       "</tr>\n",
       "<tr>\n",
       "  <th>Neighborhood_Blueste</th> <td>    0.0529</td> <td>    0.318</td> <td>    0.167</td> <td> 0.868</td> <td>   -0.571</td> <td>    0.677</td>\n",
       "</tr>\n",
       "<tr>\n",
       "  <th>Neighborhood_BrDale</th>  <td>   -0.4627</td> <td>    0.171</td> <td>   -2.711</td> <td> 0.007</td> <td>   -0.798</td> <td>   -0.128</td>\n",
       "</tr>\n",
       "<tr>\n",
       "  <th>Neighborhood_BrkSide</th> <td>   -0.6498</td> <td>    0.137</td> <td>   -4.735</td> <td> 0.000</td> <td>   -0.919</td> <td>   -0.381</td>\n",
       "</tr>\n",
       "<tr>\n",
       "  <th>Neighborhood_ClearCr</th> <td>   -0.2102</td> <td>    0.144</td> <td>   -1.456</td> <td> 0.146</td> <td>   -0.493</td> <td>    0.073</td>\n",
       "</tr>\n",
       "<tr>\n",
       "  <th>Neighborhood_CollgCr</th> <td>   -0.0761</td> <td>    0.119</td> <td>   -0.641</td> <td> 0.522</td> <td>   -0.309</td> <td>    0.157</td>\n",
       "</tr>\n",
       "<tr>\n",
       "  <th>Neighborhood_Crawfor</th> <td>   -0.0823</td> <td>    0.129</td> <td>   -0.638</td> <td> 0.523</td> <td>   -0.335</td> <td>    0.171</td>\n",
       "</tr>\n",
       "<tr>\n",
       "  <th>Neighborhood_Edwards</th> <td>   -0.7613</td> <td>    0.124</td> <td>   -6.143</td> <td> 0.000</td> <td>   -1.004</td> <td>   -0.518</td>\n",
       "</tr>\n",
       "<tr>\n",
       "  <th>Neighborhood_Gilbert</th> <td>   -0.0980</td> <td>    0.126</td> <td>   -0.777</td> <td> 0.437</td> <td>   -0.346</td> <td>    0.150</td>\n",
       "</tr>\n",
       "<tr>\n",
       "  <th>Neighborhood_IDOTRR</th>  <td>   -0.9618</td> <td>    0.160</td> <td>   -6.014</td> <td> 0.000</td> <td>   -1.276</td> <td>   -0.648</td>\n",
       "</tr>\n",
       "<tr>\n",
       "  <th>Neighborhood_MeadowV</th> <td>   -0.6918</td> <td>    0.159</td> <td>   -4.351</td> <td> 0.000</td> <td>   -1.004</td> <td>   -0.380</td>\n",
       "</tr>\n",
       "<tr>\n",
       "  <th>Neighborhood_Mitchel</th> <td>   -0.2553</td> <td>    0.131</td> <td>   -1.944</td> <td> 0.052</td> <td>   -0.513</td> <td>    0.002</td>\n",
       "</tr>\n",
       "<tr>\n",
       "  <th>Neighborhood_NAmes</th>   <td>   -0.4407</td> <td>    0.120</td> <td>   -3.664</td> <td> 0.000</td> <td>   -0.677</td> <td>   -0.205</td>\n",
       "</tr>\n",
       "<tr>\n",
       "  <th>Neighborhood_NPkVill</th> <td>   -0.0160</td> <td>    0.173</td> <td>   -0.092</td> <td> 0.927</td> <td>   -0.356</td> <td>    0.324</td>\n",
       "</tr>\n",
       "<tr>\n",
       "  <th>Neighborhood_NWAmes</th>  <td>   -0.2676</td> <td>    0.126</td> <td>   -2.122</td> <td> 0.034</td> <td>   -0.515</td> <td>   -0.020</td>\n",
       "</tr>\n",
       "<tr>\n",
       "  <th>Neighborhood_NoRidge</th> <td>    0.3631</td> <td>    0.133</td> <td>    2.737</td> <td> 0.006</td> <td>    0.103</td> <td>    0.623</td>\n",
       "</tr>\n",
       "<tr>\n",
       "  <th>Neighborhood_NridgHt</th> <td>    0.3626</td> <td>    0.120</td> <td>    3.029</td> <td> 0.002</td> <td>    0.128</td> <td>    0.597</td>\n",
       "</tr>\n",
       "<tr>\n",
       "  <th>Neighborhood_OldTown</th> <td>   -0.9350</td> <td>    0.140</td> <td>   -6.686</td> <td> 0.000</td> <td>   -1.209</td> <td>   -0.661</td>\n",
       "</tr>\n",
       "<tr>\n",
       "  <th>Neighborhood_SWISU</th>   <td>   -0.6998</td> <td>    0.144</td> <td>   -4.845</td> <td> 0.000</td> <td>   -0.983</td> <td>   -0.416</td>\n",
       "</tr>\n",
       "<tr>\n",
       "  <th>Neighborhood_Sawyer</th>  <td>   -0.4754</td> <td>    0.128</td> <td>   -3.727</td> <td> 0.000</td> <td>   -0.726</td> <td>   -0.225</td>\n",
       "</tr>\n",
       "<tr>\n",
       "  <th>Neighborhood_SawyerW</th> <td>   -0.2331</td> <td>    0.125</td> <td>   -1.860</td> <td> 0.063</td> <td>   -0.479</td> <td>    0.013</td>\n",
       "</tr>\n",
       "<tr>\n",
       "  <th>Neighborhood_Somerst</th> <td>    0.0950</td> <td>    0.144</td> <td>    0.658</td> <td> 0.511</td> <td>   -0.188</td> <td>    0.378</td>\n",
       "</tr>\n",
       "<tr>\n",
       "  <th>Neighborhood_StoneBr</th> <td>    0.4296</td> <td>    0.133</td> <td>    3.232</td> <td> 0.001</td> <td>    0.169</td> <td>    0.690</td>\n",
       "</tr>\n",
       "<tr>\n",
       "  <th>Neighborhood_Timber</th>  <td>    0.0057</td> <td>    0.134</td> <td>    0.042</td> <td> 0.966</td> <td>   -0.257</td> <td>    0.269</td>\n",
       "</tr>\n",
       "<tr>\n",
       "  <th>Neighborhood_Veenker</th> <td>    0.1276</td> <td>    0.169</td> <td>    0.754</td> <td> 0.451</td> <td>   -0.204</td> <td>    0.460</td>\n",
       "</tr>\n",
       "</table>\n",
       "<table class=\"simpletable\">\n",
       "<tr>\n",
       "  <th>Omnibus:</th>       <td>289.988</td> <th>  Durbin-Watson:     </th> <td>   1.967</td> \n",
       "</tr>\n",
       "<tr>\n",
       "  <th>Prob(Omnibus):</th> <td> 0.000</td>  <th>  Jarque-Bera (JB):  </th> <td>1242.992</td> \n",
       "</tr>\n",
       "<tr>\n",
       "  <th>Skew:</th>          <td>-0.886</td>  <th>  Prob(JB):          </th> <td>1.22e-270</td>\n",
       "</tr>\n",
       "<tr>\n",
       "  <th>Kurtosis:</th>      <td> 7.159</td>  <th>  Cond. No.          </th> <td>    109.</td> \n",
       "</tr>\n",
       "</table><br/><br/>Notes:<br/>[1] Standard Errors assume that the covariance matrix of the errors is correctly specified."
      ],
      "text/plain": [
       "<class 'statsmodels.iolib.summary.Summary'>\n",
       "\"\"\"\n",
       "                            OLS Regression Results                            \n",
       "==============================================================================\n",
       "Dep. Variable:              SalePrice   R-squared:                       0.839\n",
       "Model:                            OLS   Adj. R-squared:                  0.834\n",
       "Method:                 Least Squares   F-statistic:                     156.5\n",
       "Date:                Wed, 23 Dec 2020   Prob (F-statistic):               0.00\n",
       "Time:                        15:19:17   Log-Likelihood:                -738.14\n",
       "No. Observations:                1460   AIC:                             1572.\n",
       "Df Residuals:                    1412   BIC:                             1826.\n",
       "Df Model:                          47                                         \n",
       "Covariance Type:            nonrobust                                         \n",
       "========================================================================================\n",
       "                           coef    std err          t      P>|t|      [0.025      0.975]\n",
       "----------------------------------------------------------------------------------------\n",
       "const                   -0.1317      0.263     -0.500      0.617      -0.648       0.385\n",
       "LotArea                  0.1033      0.019      5.475      0.000       0.066       0.140\n",
       "1stFlrSF                 0.1371      0.016      8.584      0.000       0.106       0.168\n",
       "GrLivArea                0.3768      0.016     24.114      0.000       0.346       0.407\n",
       "BldgType_2fmCon         -0.1715      0.079     -2.173      0.030      -0.326      -0.017\n",
       "BldgType_Duplex         -0.4203      0.062     -6.813      0.000      -0.541      -0.299\n",
       "BldgType_Twnhs          -0.1403      0.093     -1.513      0.130      -0.322       0.042\n",
       "BldgType_TwnhsE         -0.0512      0.060     -0.858      0.391      -0.168       0.066\n",
       "KitchenQual_Fa          -0.9999      0.088    -11.315      0.000      -1.173      -0.827\n",
       "KitchenQual_Gd          -0.3820      0.050     -7.613      0.000      -0.480      -0.284\n",
       "KitchenQual_TA          -0.6692      0.055    -12.111      0.000      -0.778      -0.561\n",
       "SaleType_CWD             0.2285      0.215      1.061      0.289      -0.194       0.651\n",
       "SaleType_Con             0.5861      0.304      1.927      0.054      -0.010       1.183\n",
       "SaleType_ConLD           0.3151      0.155      2.029      0.043       0.010       0.620\n",
       "SaleType_ConLI           0.0331      0.195      0.169      0.865      -0.350       0.416\n",
       "SaleType_ConLw           0.0161      0.196      0.082      0.935      -0.368       0.400\n",
       "SaleType_New             0.2999      0.079      3.803      0.000       0.145       0.455\n",
       "SaleType_Oth             0.1178      0.245      0.480      0.631      -0.364       0.599\n",
       "SaleType_WD              0.1748      0.065      2.676      0.008       0.047       0.303\n",
       "MSZoning_FV              1.0666      0.193      5.526      0.000       0.688       1.445\n",
       "MSZoning_RH              0.8768      0.194      4.512      0.000       0.496       1.258\n",
       "MSZoning_RL              0.9961      0.162      6.151      0.000       0.678       1.314\n",
       "MSZoning_RM              1.1023      0.152      7.264      0.000       0.805       1.400\n",
       "Street_Pave             -0.2131      0.180     -1.182      0.237      -0.567       0.141\n",
       "Neighborhood_Blueste     0.0529      0.318      0.167      0.868      -0.571       0.677\n",
       "Neighborhood_BrDale     -0.4627      0.171     -2.711      0.007      -0.798      -0.128\n",
       "Neighborhood_BrkSide    -0.6498      0.137     -4.735      0.000      -0.919      -0.381\n",
       "Neighborhood_ClearCr    -0.2102      0.144     -1.456      0.146      -0.493       0.073\n",
       "Neighborhood_CollgCr    -0.0761      0.119     -0.641      0.522      -0.309       0.157\n",
       "Neighborhood_Crawfor    -0.0823      0.129     -0.638      0.523      -0.335       0.171\n",
       "Neighborhood_Edwards    -0.7613      0.124     -6.143      0.000      -1.004      -0.518\n",
       "Neighborhood_Gilbert    -0.0980      0.126     -0.777      0.437      -0.346       0.150\n",
       "Neighborhood_IDOTRR     -0.9618      0.160     -6.014      0.000      -1.276      -0.648\n",
       "Neighborhood_MeadowV    -0.6918      0.159     -4.351      0.000      -1.004      -0.380\n",
       "Neighborhood_Mitchel    -0.2553      0.131     -1.944      0.052      -0.513       0.002\n",
       "Neighborhood_NAmes      -0.4407      0.120     -3.664      0.000      -0.677      -0.205\n",
       "Neighborhood_NPkVill    -0.0160      0.173     -0.092      0.927      -0.356       0.324\n",
       "Neighborhood_NWAmes     -0.2676      0.126     -2.122      0.034      -0.515      -0.020\n",
       "Neighborhood_NoRidge     0.3631      0.133      2.737      0.006       0.103       0.623\n",
       "Neighborhood_NridgHt     0.3626      0.120      3.029      0.002       0.128       0.597\n",
       "Neighborhood_OldTown    -0.9350      0.140     -6.686      0.000      -1.209      -0.661\n",
       "Neighborhood_SWISU      -0.6998      0.144     -4.845      0.000      -0.983      -0.416\n",
       "Neighborhood_Sawyer     -0.4754      0.128     -3.727      0.000      -0.726      -0.225\n",
       "Neighborhood_SawyerW    -0.2331      0.125     -1.860      0.063      -0.479       0.013\n",
       "Neighborhood_Somerst     0.0950      0.144      0.658      0.511      -0.188       0.378\n",
       "Neighborhood_StoneBr     0.4296      0.133      3.232      0.001       0.169       0.690\n",
       "Neighborhood_Timber      0.0057      0.134      0.042      0.966      -0.257       0.269\n",
       "Neighborhood_Veenker     0.1276      0.169      0.754      0.451      -0.204       0.460\n",
       "==============================================================================\n",
       "Omnibus:                      289.988   Durbin-Watson:                   1.967\n",
       "Prob(Omnibus):                  0.000   Jarque-Bera (JB):             1242.992\n",
       "Skew:                          -0.886   Prob(JB):                    1.22e-270\n",
       "Kurtosis:                       7.159   Cond. No.                         109.\n",
       "==============================================================================\n",
       "\n",
       "Notes:\n",
       "[1] Standard Errors assume that the covariance matrix of the errors is correctly specified.\n",
       "\"\"\""
      ]
     },
     "execution_count": 69,
     "metadata": {},
     "output_type": "execute_result"
    }
   ],
   "source": [
    "# Your code here\n",
    "import statsmodels.api as sm\n",
    "\n",
    "model = sm.OLS(\n",
    "               #ames['SalePrice'],\n",
    "               preprocessed['SalePrice'],\n",
    "               sm.add_constant(preprocessed).drop('SalePrice', axis = 1)).fit()\n",
    "model.summary()"
   ]
  },
  {
   "cell_type": "markdown",
   "metadata": {},
   "source": [
    "## Run the same model in scikit-learn"
   ]
  },
  {
   "cell_type": "code",
   "execution_count": 71,
   "metadata": {},
   "outputs": [
    {
     "data": {
      "text/plain": [
       "array([ 0.10327192,  0.1371289 ,  0.37682133, -0.1714623 , -0.42033885,\n",
       "       -0.14034113, -0.05120194, -0.99986001, -0.38202198, -0.66924909,\n",
       "        0.22847737,  0.5860786 ,  0.31510567,  0.0330941 ,  0.01608664,\n",
       "        0.29985338,  0.11784232,  0.17480326,  1.06663561,  0.87681007,\n",
       "        0.99609131,  1.10228499, -0.21311107,  0.05293276, -0.46271253,\n",
       "       -0.64982261, -0.21019239, -0.07609253, -0.08233633, -0.76126683,\n",
       "       -0.09799942, -0.96183328, -0.69182575, -0.2553217 , -0.44067351,\n",
       "       -0.01595046, -0.26762962,  0.36313165,  0.36259667, -0.93504972,\n",
       "       -0.69976325, -0.47543141, -0.23309732,  0.09502969,  0.42957077,\n",
       "        0.0056924 ,  0.12762613])"
      ]
     },
     "execution_count": 71,
     "metadata": {},
     "output_type": "execute_result"
    }
   ],
   "source": [
    "# Your code here - Check that the coefficients and intercept are the same as those from Statsmodels\n",
    "from sklearn.linear_model import LinearRegression\n",
    "linreg = LinearRegression()\n",
    "linreg.fit(preprocessed.drop('SalePrice', axis=1), preprocessed['SalePrice'])\n",
    "linreg.coef_"
   ]
  },
  {
   "cell_type": "code",
   "execution_count": 184,
   "metadata": {},
   "outputs": [
    {
     "data": {
      "text/plain": [
       "-0.13169736916669963"
      ]
     },
     "execution_count": 184,
     "metadata": {},
     "output_type": "execute_result"
    }
   ],
   "source": [
    "linreg.intercept_"
   ]
  },
  {
   "cell_type": "code",
   "execution_count": 72,
   "metadata": {},
   "outputs": [
    {
     "data": {
      "text/plain": [
       "0"
      ]
     },
     "execution_count": 72,
     "metadata": {},
     "output_type": "execute_result"
    }
   ],
   "source": [
    "comparison = pd.DataFrame([np.insert(linreg.coef_, 0, linreg.intercept_),\n",
    "                           model.params],\n",
    "                           columns = model.params.index\n",
    "                            ).T\n",
    "#comparison.head()\n",
    "(comparison[0] == comparison[1]).sum()"
   ]
  },
  {
   "cell_type": "code",
   "execution_count": 34,
   "metadata": {},
   "outputs": [],
   "source": [
    "# The sum of differences is 0 so they are the same."
   ]
  },
  {
   "cell_type": "markdown",
   "metadata": {},
   "source": [
    "## Predict the house price given the following characteristics (before manipulation!!)\n",
    "\n",
    "Make sure to transform your variables as needed!\n",
    "\n",
    "- LotArea: 14977\n",
    "- 1stFlrSF: 1976\n",
    "- GrLivArea: 1976\n",
    "- BldgType: 1Fam\n",
    "- KitchenQual: Gd\n",
    "- SaleType: New\n",
    "- MSZoning: RL\n",
    "- Street: Pave\n",
    "- Neighborhood: NridgHt"
   ]
  },
  {
   "cell_type": "code",
   "execution_count": 174,
   "metadata": {},
   "outputs": [],
   "source": [
    "predictors = pd.DataFrame([14977,1976,1976,'1Fam','Gd','New','RL','Pave','NridgHt'],\n",
    "                          ['LotArea', '1stFlrSF',\n",
    "                                    'GrLivArea',\n",
    "                                    'BldgType',\n",
    "                                    'KitchenQual',\n",
    "                                    'SaleType',\n",
    "                                    'MSZoning',\n",
    "                                    'Street',\n",
    "                                    'Neighborhood']).T\n",
    "predictors\n",
    "\n",
    "predictors = {  'LotArea': 14977,\n",
    "                '1stFlrSF': 1976,\n",
    "                'GrLivArea': 1976,\n",
    "                'BldgType': '1Fam',\n",
    "                'KitchenQual': 'Gd',\n",
    "                'SaleType': 'New',\n",
    "                'MSZoning': 'RL',\n",
    "                'Street': 'Pave',\n",
    "                'Neighborhood': 'NridgHt'}"
   ]
  },
  {
   "cell_type": "code",
   "execution_count": 178,
   "metadata": {},
   "outputs": [
    {
     "data": {
      "text/plain": [
       "['LotArea', '1stFlrSF', 'GrLivArea']"
      ]
     },
     "execution_count": 178,
     "metadata": {},
     "output_type": "execute_result"
    }
   ],
   "source": [
    "#predictors\n",
    "conts"
   ]
  },
  {
   "cell_type": "code",
   "execution_count": 187,
   "metadata": {},
   "outputs": [
    {
     "name": "stdout",
     "output_type": "stream",
     "text": [
      "LotArea\n",
      "9.614270969992395\n",
      "9.11083823950556 0.5174480682791125\n",
      "1stFlrSF\n",
      "7.588829878307813\n",
      "7.0075014449454125 0.31773011494051673\n",
      "GrLivArea\n",
      "7.588829878307813\n",
      "7.267774383311004 0.3335504242692843\n"
     ]
    },
    {
     "data": {
      "text/plain": [
       "[-0.13169736916669963,\n",
       " 0.9729145035966836,\n",
       " 1.829629632278428,\n",
       " 0.9625396091165287]"
      ]
     },
     "execution_count": 187,
     "metadata": {},
     "output_type": "execute_result"
    }
   ],
   "source": [
    "predlist = [linreg.intercept_]\n",
    "\n",
    "# Fill first cols with transformed data using original std and mean.\n",
    "\n",
    "for cont in conts:\n",
    "    print(cont)\n",
    "    print(np.log(predictors[cont]))\n",
    "    print(x_means[cont], x_stds[cont])\n",
    "\n",
    "    n_data = np.log(predictors[cont])\n",
    "    n_data = (n_data - x_means[cont]) / x_stds[cont]\n",
    "    predlist.append(n_data)\n",
    "    \n",
    "predlist"
   ]
  },
  {
   "cell_type": "code",
   "execution_count": 188,
   "metadata": {},
   "outputs": [],
   "source": [
    "for col in ames_categoricals.columns:\n",
    "    feat, value = col.split('_')\n",
    "    \n",
    "    # If it doesn't find any thats ok, it means that 1 was in the dropped col\n",
    "    if predictors[feat] == value:\n",
    "        predlist.append(1)\n",
    "    else:\n",
    "        predlist.append(0)\n",
    "\n",
    "#Double check\n",
    "#pd.DataFrame(predlist, preprocessed.drop('SalePrice', axis = 1).columns)"
   ]
  },
  {
   "cell_type": "code",
   "execution_count": 199,
   "metadata": {},
   "outputs": [],
   "source": [
    "prediction = model.predict(predlist)"
   ]
  },
  {
   "cell_type": "code",
   "execution_count": 200,
   "metadata": {},
   "outputs": [
    {
     "data": {
      "text/plain": [
       "<matplotlib.lines.Line2D at 0x7fa0cff5eb50>"
      ]
     },
     "execution_count": 200,
     "metadata": {},
     "output_type": "execute_result"
    },
    {
     "data": {
      "image/png": "[encoded data removed]",
      "text/plain": [
       "<Figure size 432x288 with 1 Axes>"
      ]
     },
     "metadata": {
      "needs_background": "light"
     },
     "output_type": "display_data"
    }
   ],
   "source": [
    "import matplotlib.pyplot as plt\n",
    "%matplotlib inline\n",
    "\n",
    "preprocessed['SalePrice'].hist()\n",
    "plt.axvline(x=prediction, color='r')"
   ]
  },
  {
   "cell_type": "code",
   "execution_count": 205,
   "metadata": {},
   "outputs": [
    {
     "data": {
      "text/plain": [
       "<matplotlib.lines.Line2D at 0x7fa0cfda1e50>"
      ]
     },
     "execution_count": 205,
     "metadata": {},
     "output_type": "execute_result"
    },
    {
     "data": {
      "image/png": "[encoded data removed]",
      "text/plain": [
       "<Figure size 432x288 with 1 Axes>"
      ]
     },
     "metadata": {
      "needs_background": "light"
     },
     "output_type": "display_data"
    }
   ],
   "source": [
    "prediction_rn = prediction * x_stds['SalePrice'] + x_means['SalePrice']\n",
    "\n",
    "ames_cont_log_prenorm['SalePrice'].hist()\n",
    "plt.axvline(x=prediction_rn, color='r')"
   ]
  },
  {
   "cell_type": "code",
   "execution_count": 210,
   "metadata": {},
   "outputs": [
    {
     "data": {
      "text/plain": [
       "<matplotlib.lines.Line2D at 0x7fa0cfcc0eb0>"
      ]
     },
     "execution_count": 210,
     "metadata": {},
     "output_type": "execute_result"
    },
    {
     "data": {
      "image/png": "[encoded data removed]",
      "text/plain": [
       "<Figure size 432x288 with 1 Axes>"
      ]
     },
     "metadata": {
      "needs_background": "light"
     },
     "output_type": "display_data"
    }
   ],
   "source": [
    "prediction_final = np.exp(prediction_rn)\n",
    "\n",
    "ames['SalePrice'].hist()\n",
    "plt.axvline(x=prediction_final, color='r')"
   ]
  },
  {
   "cell_type": "code",
   "execution_count": 211,
   "metadata": {},
   "outputs": [
    {
     "data": {
      "text/plain": [
       "array([341464.23451001])"
      ]
     },
     "execution_count": 211,
     "metadata": {},
     "output_type": "execute_result"
    }
   ],
   "source": [
    "prediction_final\n"
   ]
  },
  {
   "cell_type": "markdown",
   "metadata": {},
   "source": [
    "## Summary\n",
    "Congratulations! You pre-processed the Ames Housing data using scaling and standardization. You also fitted your first multiple linear regression model on the Ames Housing data using statsmodels and scikit-learn!"
   ]
  },
  {
   "cell_type": "code",
   "execution_count": null,
   "metadata": {},
   "outputs": [],
   "source": []
  }
 ],
 "metadata": {
  "kernelspec": {
   "display_name": "Python 3",
   "language": "python",
   "name": "python3"
  },
  "language_info": {
   "codemirror_mode": {
    "name": "ipython",
    "version": 3
   },
   "file_extension": ".py",
   "mimetype": "text/x-python",
   "name": "python",
   "nbconvert_exporter": "python",
   "pygments_lexer": "ipython3",
   "version": "3.8.5"
  }
 },
 "nbformat": 4,
 "nbformat_minor": 2
}
